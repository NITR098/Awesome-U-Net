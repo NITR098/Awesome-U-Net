{
 "cells": [
  {
   "cell_type": "markdown",
   "id": "arbitrary-fruit",
   "metadata": {},
   "source": [
    "# UNet - SegPC2021\n",
    "---"
   ]
  },
  {
   "cell_type": "markdown",
   "id": "6f53df2a",
   "metadata": {},
   "source": [
    "## Import packages & functions"
   ]
  },
  {
   "cell_type": "code",
   "execution_count": 1,
   "id": "embedded-draft",
   "metadata": {},
   "outputs": [],
   "source": [
    "from __future__ import print_function, division\n",
    "\n",
    "\n",
    "import os\n",
    "import sys\n",
    "sys.path.append('../..')\n",
    "os.environ[\"CUDA_VISIBLE_DEVICES\"] = \"0\"\n",
    "\n",
    "import copy\n",
    "import json\n",
    "import importlib\n",
    "import glob\n",
    "import pandas as pd\n",
    "from skimage import io, transform\n",
    "import matplotlib.pyplot as plt\n",
    "from matplotlib.image import imread\n",
    "import numpy as np\n",
    "from tqdm import tqdm\n",
    "\n",
    "import torch\n",
    "import torch.nn as nn\n",
    "import torch.nn.functional as F\n",
    "import torch.optim as optim\n",
    "import torchmetrics\n",
    "from torch.optim import Adam, SGD\n",
    "from losses import DiceLoss, DiceLossWithLogtis\n",
    "from torch.nn import BCELoss, CrossEntropyLoss\n",
    "\n",
    "from utils import (\n",
    "    show_sbs,\n",
    "    load_config,\n",
    "    _print,\n",
    ")\n",
    "\n",
    "# Ignore warnings\n",
    "import warnings\n",
    "warnings.filterwarnings(\"ignore\")\n",
    "\n",
    "# plt.ion()   # interactive mode"
   ]
  },
  {
   "cell_type": "markdown",
   "id": "943a54eb",
   "metadata": {},
   "source": [
    "## Set the seed"
   ]
  },
  {
   "cell_type": "code",
   "execution_count": 2,
   "id": "champion-ambassador",
   "metadata": {},
   "outputs": [],
   "source": [
    "torch.manual_seed(0)\n",
    "np.random.seed(0)\n",
    "torch.cuda.manual_seed(0)\n",
    "import random\n",
    "random.seed(0)"
   ]
  },
  {
   "cell_type": "markdown",
   "id": "769daa84",
   "metadata": {},
   "source": [
    "## Load the config"
   ]
  },
  {
   "cell_type": "code",
   "execution_count": 3,
   "id": "flying-belize",
   "metadata": {},
   "outputs": [],
   "source": [
    "CONFIG_NAME = \"segpc/segpc2021_unet.yaml\"\n",
    "CONFIG_FILE_PATH = os.path.join(\"../../configs\", CONFIG_NAME)"
   ]
  },
  {
   "cell_type": "code",
   "execution_count": 4,
   "id": "studied-movie",
   "metadata": {},
   "outputs": [
    {
     "name": "stdout",
     "output_type": "stream",
     "text": [
      "\u001b[0m\u001b[4m\u001b[96mConfig:\u001b[0m\n",
      "{\n",
      "  \"run\": {\n",
      "    \"mode\": \"train\",\n",
      "    \"device\": \"gpu\"\n",
      "  },\n",
      "  \"transforms\": \"none\",\n",
      "  \"dataset\": {\n",
      "    \"class_name\": \"SegPC2021Dataset\",\n",
      "    \"input_size\": 224,\n",
      "    \"scale\": 2.5,\n",
      "    \"data_dir\": \"/raid/home/labusermodaresi/datasets/TCIA_SegPC_dataset/np\",\n",
      "    \"dataset_dir\": \"/raid/home/labusermodaresi/datasets/TCIA_SegPC_dataset/\",\n",
      "    \"number_classes\": 2\n",
      "  },\n",
      "  \"data_loader\": {\n",
      "    \"train\": {\n",
      "      \"batch_size\": 16,\n",
      "      \"shuffle\": true,\n",
      "      \"num_workers\": 4,\n",
      "      \"pin_memory\": true\n",
      "    },\n",
      "    \"validation\": {\n",
      "      \"batch_size\": 16,\n",
      "      \"shuffle\": false,\n",
      "      \"num_workers\": 4,\n",
      "      \"pin_memory\": true\n",
      "    },\n",
      "    \"test\": {\n",
      "      \"batch_size\": 16,\n",
      "      \"shuffle\": false,\n",
      "      \"num_workers\": 4,\n",
      "      \"pin_memory\": false\n",
      "    }\n",
      "  },\n",
      "  \"training\": {\n",
      "    \"optimizer\": {\n",
      "      \"name\": \"Adam\",\n",
      "      \"params\": {\n",
      "        \"lr\": 0.0001\n",
      "      }\n",
      "    },\n",
      "    \"criterion\": {\n",
      "      \"name\": \"DiceLoss\",\n",
      "      \"params\": {}\n",
      "    },\n",
      "    \"scheduler\": {\n",
      "      \"factor\": 0.5,\n",
      "      \"patience\": 10\n",
      "    },\n",
      "    \"epochs\": 100\n",
      "  },\n",
      "  \"model\": {\n",
      "    \"save_dir\": \"../../saved_models/segpc2021_unet\",\n",
      "    \"load_weights\": false,\n",
      "    \"name\": \"UNet\",\n",
      "    \"params\": {\n",
      "      \"in_channels\": 4,\n",
      "      \"out_channels\": 2,\n",
      "      \"with_bn\": false\n",
      "    }\n",
      "  }\n",
      "}\n",
      "~-~-~-~-~-~-~-~-~-~-~-~-~-~-~-~-~-~-~-~- \n",
      "\n"
     ]
    }
   ],
   "source": [
    "config = load_config(CONFIG_FILE_PATH)\n",
    "_print(\"Config:\", \"info_underline\")\n",
    "print(json.dumps(config, indent=2))\n",
    "print(20*\"~-\", \"\\n\")"
   ]
  },
  {
   "cell_type": "markdown",
   "id": "yellow-gender",
   "metadata": {},
   "source": [
    "## Dataset and Dataloader"
   ]
  },
  {
   "cell_type": "code",
   "execution_count": 5,
   "id": "external-stability",
   "metadata": {},
   "outputs": [],
   "source": [
    "from datasets.segpc import SegPC2021Dataset\n",
    "from torch.utils.data import DataLoader, Subset\n",
    "from torchvision import transforms"
   ]
  },
  {
   "cell_type": "code",
   "execution_count": 6,
   "id": "infinite-photography",
   "metadata": {},
   "outputs": [
    {
     "name": "stdout",
     "output_type": "stream",
     "text": [
      "loading X_tr...\n",
      "loading Y_tr...\n",
      "finished.\n",
      "loading X_vl...\n",
      "loading Y_vl...\n",
      "finished.\n",
      "loading X_te...\n",
      "loading Y_te...\n",
      "finished.\n",
      "Length of trainig_dataset:\t1316\n",
      "Length of validation_dataset:\t527\n",
      "Length of test_dataset:\t\t790\n",
      "Training\n"
     ]
    },
    {
     "data": {
      "image/png": "[encoded data removed]",
      "text/plain": [
       "<Figure size 576x288 with 2 Axes>"
      ]
     },
     "metadata": {
      "needs_background": "light"
     },
     "output_type": "display_data"
    },
    {
     "name": "stdout",
     "output_type": "stream",
     "text": [
      "Validation\n"
     ]
    },
    {
     "data": {
      "image/png": "[encoded data removed]",
      "text/plain": [
       "<Figure size 576x288 with 2 Axes>"
      ]
     },
     "metadata": {
      "needs_background": "light"
     },
     "output_type": "display_data"
    },
    {
     "name": "stdout",
     "output_type": "stream",
     "text": [
      "Test\n"
     ]
    },
    {
     "data": {
      "image/png": "[encoded data removed]",
      "text/plain": [
       "<Figure size 576x288 with 2 Axes>"
      ]
     },
     "metadata": {
      "needs_background": "light"
     },
     "output_type": "display_data"
    }
   ],
   "source": [
    "# ----------------- transform ------------------\n",
    "# transform for image\n",
    "img_transform = transforms.Compose([\n",
    "    transforms.ToTensor()\n",
    "])\n",
    "# transform for mask\n",
    "msk_transform = transforms.Compose([\n",
    "    transforms.ToTensor()\n",
    "])\n",
    "# <<<<<<<<<<<<<<<<<<<<<<<<<<<<<<<<<<<<<<<<<<<<<<\n",
    "\n",
    "\n",
    "# ----------------- dataset --------------------\n",
    "# preparing training dataset\n",
    "tr_dataset = SegPC2021Dataset(\n",
    "    mode=\"tr\",\n",
    "    input_size=config['dataset']['input_size'],\n",
    "    scale=config['dataset']['scale'],\n",
    "    data_dir=config['dataset']['data_dir'], \n",
    "    dataset_dir=config['dataset']['dataset_dir'],\n",
    "    one_hot=True,\n",
    "    force_rebuild=False,\n",
    "    img_transform=img_transform,\n",
    "    msk_transform=msk_transform\n",
    ")\n",
    "# preparing training dataset\n",
    "vl_dataset = SegPC2021Dataset(\n",
    "    mode=\"vl\",\n",
    "    input_size=config['dataset']['input_size'],\n",
    "    scale=config['dataset']['scale'],\n",
    "    data_dir=config['dataset']['data_dir'], \n",
    "    dataset_dir=config['dataset']['dataset_dir'],\n",
    "    one_hot=True,\n",
    "    force_rebuild=False,\n",
    "    img_transform=img_transform,\n",
    "    msk_transform=msk_transform\n",
    ")\n",
    "# preparing training dataset\n",
    "te_dataset = SegPC2021Dataset(\n",
    "    mode=\"te\",\n",
    "    input_size=config['dataset']['input_size'],\n",
    "    scale=config['dataset']['scale'],\n",
    "    data_dir=config['dataset']['data_dir'], \n",
    "    dataset_dir=config['dataset']['dataset_dir'],\n",
    "    one_hot=True,\n",
    "    force_rebuild=False,\n",
    "    img_transform=img_transform,\n",
    "    msk_transform=msk_transform\n",
    ")\n",
    "\n",
    "\n",
    "def seed_worker(worker_id):\n",
    "    worker_seed = torch.initial_seed() % 2**32\n",
    "    np.random.seed(worker_seed)\n",
    "    random.seed(worker_seed)\n",
    "\n",
    "g = torch.Generator()\n",
    "g.manual_seed(0)\n",
    "\n",
    "# prepare train dataloader\n",
    "tr_dataloader = DataLoader(tr_dataset, worker_init_fn=seed_worker, generator=g, **config['data_loader']['train'])\n",
    "\n",
    "# prepare validation dataloader\n",
    "vl_dataloader = DataLoader(vl_dataset, worker_init_fn=seed_worker, generator=g, **config['data_loader']['validation'])\n",
    "\n",
    "# prepare test dataloader\n",
    "te_dataloader = DataLoader(te_dataset, worker_init_fn=seed_worker, generator=g, **config['data_loader']['test'])\n",
    "\n",
    "\n",
    "\n",
    "print(f\"Length of trainig_dataset:\\t{len(tr_dataset)}\")\n",
    "print(f\"Length of validation_dataset:\\t{len(vl_dataset)}\")\n",
    "print(f\"Length of test_dataset:\\t\\t{len(te_dataset)}\")\n",
    "\n",
    "# -------------- test -----------------\n",
    "# test and visualize the input data\n",
    "for batch in tr_dataloader:\n",
    "    img = batch['image']\n",
    "    msk = batch['mask']\n",
    "    print(\"Training\")\n",
    "    show_sbs(img[0,:-1,:,:], msk[0,1])\n",
    "    break\n",
    "    \n",
    "for batch in vl_dataloader:\n",
    "    img = batch['image']\n",
    "    msk = batch['mask']\n",
    "    print(\"Validation\")\n",
    "    show_sbs(img[0,:-1,:,:], msk[0,1])\n",
    "    break\n",
    "    \n",
    "for batch in te_dataloader:\n",
    "    img = batch['image']\n",
    "    msk = batch['mask']\n",
    "    print(\"Test\")\n",
    "    show_sbs(img[0,:-1,:,:], msk[0,1])\n",
    "    break"
   ]
  },
  {
   "cell_type": "markdown",
   "id": "adapted-perspective",
   "metadata": {},
   "source": [
    "### Device"
   ]
  },
  {
   "cell_type": "code",
   "execution_count": 7,
   "id": "internal-delay",
   "metadata": {},
   "outputs": [
    {
     "name": "stdout",
     "output_type": "stream",
     "text": [
      "Torch device: cuda\n"
     ]
    }
   ],
   "source": [
    "device = torch.device(\"cuda\" if torch.cuda.is_available() else \"cpu\")\n",
    "print(f\"Torch device: {device}\")"
   ]
  },
  {
   "cell_type": "markdown",
   "id": "narrow-stable",
   "metadata": {},
   "source": [
    "## Metrics"
   ]
  },
  {
   "cell_type": "code",
   "execution_count": 8,
   "id": "difficult-boxing",
   "metadata": {},
   "outputs": [],
   "source": [
    "metrics = torchmetrics.MetricCollection(\n",
    "    [\n",
    "        torchmetrics.F1Score(),\n",
    "        torchmetrics.Accuracy(),\n",
    "        torchmetrics.Dice(),\n",
    "        torchmetrics.Precision(),\n",
    "        torchmetrics.Specificity(),\n",
    "        torchmetrics.Recall(),\n",
    "        # IoU\n",
    "        torchmetrics.JaccardIndex(2)\n",
    "    ],\n",
    "    prefix='train_metrics/'\n",
    ")\n",
    "\n",
    "# train_metrics\n",
    "train_metrics = metrics.clone(prefix='train_metrics/').to(device)\n",
    "\n",
    "# valid_metrics\n",
    "valid_metrics = metrics.clone(prefix='valid_metrics/').to(device)\n",
    "\n",
    "# test_metrics\n",
    "test_metrics = metrics.clone(prefix='test_metrics/').to(device)"
   ]
  },
  {
   "cell_type": "code",
   "execution_count": 9,
   "id": "thrown-reverse",
   "metadata": {},
   "outputs": [],
   "source": [
    "def make_serializeable_metrics(computed_metrics):\n",
    "    res = {}\n",
    "    for k, v in computed_metrics.items():\n",
    "        res[k] = float(v.cpu().detach().numpy())\n",
    "    return res"
   ]
  },
  {
   "cell_type": "markdown",
   "id": "protected-anime",
   "metadata": {},
   "source": [
    "## Define validate function"
   ]
  },
  {
   "cell_type": "code",
   "execution_count": 10,
   "id": "consistent-tissue",
   "metadata": {},
   "outputs": [],
   "source": [
    "def validate(model, criterion, vl_dataloader):\n",
    "    model.eval()\n",
    "    with torch.no_grad():\n",
    "        \n",
    "        evaluator = valid_metrics.clone().to(device)\n",
    "        \n",
    "        losses = []\n",
    "        cnt = 0.\n",
    "        for batch, batch_data in enumerate(vl_dataloader):\n",
    "            imgs = batch_data['image']\n",
    "            msks = batch_data['mask']\n",
    "            \n",
    "            cnt += msks.shape[0]\n",
    "            \n",
    "            imgs = imgs.to(device)\n",
    "            msks = msks.to(device)\n",
    "            \n",
    "            preds = model(imgs)\n",
    "            loss = criterion(preds, msks)\n",
    "            losses.append(loss.item())\n",
    "            \n",
    "            # we should remove nucs\n",
    "            not_nucs = torch.where(imgs[:,-1,:,:]>0, 0, 1)\n",
    "            preds_en = torch.argmax(preds, 1, keepdim=False).float() * not_nucs\n",
    "            msks_en = torch.argmax(msks, 1, keepdim=False) * not_nucs\n",
    "            \n",
    "            # evaluate by metrics\n",
    "            evaluator.update(preds_en, msks_en.int())\n",
    "        \n",
    "#             _cml = f\"curr_mean-loss:{np.sum(losses)/cnt:0.5f}\"\n",
    "#             _bl = f\"batch-loss:{losses[-1]/msks.shape[0]:0.5f}\"\n",
    "#             iterator.set_description(f\"Validation) batch:{batch+1:04d} -> {_cml}, {_bl}\")\n",
    "        \n",
    "        # print the final results\n",
    "        loss = np.sum(losses)/cnt\n",
    "        metrics = evaluator.compute()\n",
    "    \n",
    "    return evaluator, loss"
   ]
  },
  {
   "cell_type": "markdown",
   "id": "sacred-repeat",
   "metadata": {},
   "source": [
    "## Define train function"
   ]
  },
  {
   "cell_type": "code",
   "execution_count": 11,
   "id": "flexible-crest",
   "metadata": {},
   "outputs": [],
   "source": [
    "def train(\n",
    "    model, \n",
    "    device, \n",
    "    tr_dataloader,\n",
    "    vl_dataloader,\n",
    "    config,\n",
    "    \n",
    "    criterion,\n",
    "    optimizer,\n",
    "    scheduler,\n",
    "    \n",
    "    save_dir='./',\n",
    "    save_file_id=None,\n",
    "):\n",
    "    \n",
    "    tr_prms = config['training']\n",
    "    EPOCHS = tr_prms['epochs']\n",
    "    \n",
    "    torch.cuda.empty_cache()\n",
    "    model = model.to(device)\n",
    "    \n",
    "    evaluator = train_metrics.clone().to(device)\n",
    "\n",
    "    epochs_info = []\n",
    "    best_model = None\n",
    "    best_result = {}\n",
    "    best_vl_loss = np.Inf\n",
    "    for epoch in range(EPOCHS):\n",
    "        model.train()\n",
    "        \n",
    "        evaluator.reset()\n",
    "        tr_iterator = tqdm(enumerate(tr_dataloader))\n",
    "        tr_losses = []\n",
    "        cnt = 0\n",
    "        for batch, batch_data in tr_iterator:\n",
    "            imgs = batch_data['image']\n",
    "            msks = batch_data['mask']\n",
    "            \n",
    "            imgs = imgs.to(device)\n",
    "            msks = msks.to(device)\n",
    "\n",
    "            optimizer.zero_grad()\n",
    "            preds = model(imgs)\n",
    "            loss = criterion(preds, msks)\n",
    "            loss.backward()\n",
    "            optimizer.step()\n",
    "            \n",
    "            # we should remove nucs\n",
    "            not_nucs = torch.where(imgs[:,-1,:,:]>0, 0, 1)\n",
    "            preds_en = torch.argmax(preds, 1, keepdim=False).float() * not_nucs\n",
    "            msks_en = torch.argmax(msks, 1, keepdim=False) * not_nucs\n",
    "            \n",
    "            # evaluate by metrics\n",
    "            evaluator.update(preds_en, msks_en.int())\n",
    "            \n",
    "            cnt += imgs.shape[0]\n",
    "            tr_losses.append(loss.item())\n",
    "            \n",
    "            # write details for each training batch\n",
    "            _cml = f\"curr_mean-loss:{np.sum(tr_losses)/cnt:0.5f}\"\n",
    "            _bl = f\"mean_batch-loss:{tr_losses[-1]/imgs.shape[0]:0.5f}\"\n",
    "            tr_iterator.set_description(f\"Training) ep:{epoch:03d}, batch:{batch+1:04d} -> {_cml}, {_bl}\")\n",
    "        \n",
    "        tr_loss = np.sum(tr_losses)/cnt\n",
    "        \n",
    "        # validate model\n",
    "        vl_metrics, vl_loss = validate(model, criterion, vl_dataloader)\n",
    "        if vl_loss < best_vl_loss:\n",
    "            # find a better model\n",
    "            best_model = model\n",
    "            best_vl_loss = vl_loss\n",
    "            best_result = {\n",
    "                'tr_loss': tr_loss,\n",
    "                'vl_loss': vl_loss,\n",
    "                'tr_metrics': make_serializeable_metrics(evaluator.compute()),\n",
    "                'vl_metrics': make_serializeable_metrics(vl_metrics.compute())\n",
    "            }\n",
    "        \n",
    "        # write the final results\n",
    "        epoch_info = {\n",
    "            'tr_loss': tr_loss,\n",
    "            'vl_loss': vl_loss,\n",
    "            'tr_metrics': make_serializeable_metrics(evaluator.compute()),\n",
    "            'vl_metrics': make_serializeable_metrics(vl_metrics.compute())\n",
    "        }\n",
    "        epochs_info.append(epoch_info)\n",
    "#         epoch_tqdm.set_description(f\"Epoch:{epoch+1}/{EPOCHS} -> tr_loss:{tr_loss}, vl_loss:{vl_loss}\")\n",
    "        evaluator.reset()\n",
    "    \n",
    "        scheduler.step(vl_loss)\n",
    "  \n",
    "    # save final results\n",
    "    res = {\n",
    "        'id': save_file_id,\n",
    "        'config': config,\n",
    "        'epochs_info': epochs_info,\n",
    "        'best_result': best_result\n",
    "    }\n",
    "    fn = f\"{save_file_id+'_' if save_file_id else ''}result.json\"\n",
    "    fp = os.path.join(config['model']['save_dir'],fn)\n",
    "    with open(fp, \"w\") as write_file:\n",
    "        json.dump(res, write_file, indent=4)\n",
    "\n",
    "    # save model's state_dict\n",
    "    fn = \"last_model_state_dict.pt\"\n",
    "    fp = os.path.join(config['model']['save_dir'],fn)\n",
    "    torch.save(model.state_dict(), fp)\n",
    "    \n",
    "    # save the best model's state_dict\n",
    "    fn = \"best_model_state_dict.pt\"\n",
    "    fp = os.path.join(config['model']['save_dir'], fn)\n",
    "    torch.save(best_model.state_dict(), fp)\n",
    "    \n",
    "    return best_model, model, res"
   ]
  },
  {
   "cell_type": "markdown",
   "id": "shared-lobby",
   "metadata": {},
   "source": [
    "## Define test function"
   ]
  },
  {
   "cell_type": "code",
   "execution_count": 12,
   "id": "mediterranean-driving",
   "metadata": {},
   "outputs": [],
   "source": [
    "def test(model, te_dataloader):\n",
    "    model.eval()\n",
    "    with torch.no_grad():\n",
    "        evaluator = test_metrics.clone().to(device)\n",
    "        for batch_data in tqdm(te_dataloader):\n",
    "            imgs = batch_data['image']\n",
    "            msks = batch_data['mask']\n",
    "            \n",
    "            imgs = imgs.to(device)\n",
    "            msks = msks.to(device)\n",
    "            \n",
    "            preds = model(imgs)\n",
    "            \n",
    "            # we should remove nucs\n",
    "            not_nucs = torch.where(imgs[:,-1,:,:]>0, 0, 1)\n",
    "            preds_en = torch.argmax(preds, 1, keepdim=False).float() * not_nucs\n",
    "            msks_en = torch.argmax(msks, 1, keepdim=False) * not_nucs\n",
    "            \n",
    "            # evaluate by metrics\n",
    "            evaluator.update(preds_en, msks_en.int())\n",
    "    return evaluator"
   ]
  },
  {
   "cell_type": "markdown",
   "id": "486910aa",
   "metadata": {},
   "source": [
    "## Load and prepare model"
   ]
  },
  {
   "cell_type": "code",
   "execution_count": 16,
   "id": "chronic-gregory",
   "metadata": {
    "scrolled": true
   },
   "outputs": [
    {
     "name": "stdout",
     "output_type": "stream",
     "text": [
      "Number of parameters: 487458\n"
     ]
    }
   ],
   "source": [
    "from models.unet import UNet as Net\n",
    "\n",
    "config['training']['epochs']=5\n",
    "model = Net(**config['model']['params'])\n",
    "torch.cuda.empty_cache()\n",
    "model = model.to(device)\n",
    "print(\"Number of parameters:\", sum(p.numel() for p in model.parameters() if p.requires_grad))\n",
    "\n",
    "os.makedirs(config['model']['save_dir'], exist_ok=True)\n",
    "model_path = f\"{config['model']['save_dir']}/model_state_dict.pt\"\n",
    "\n",
    "if config['model']['load_weights']:\n",
    "    model.load_state_dict(torch.load(model_path))\n",
    "    print(\"Loaded pre-trained weights...\")\n",
    "    \n",
    "    \n",
    "# criterion_dice = DiceLoss()\n",
    "criterion_dice = DiceLossWithLogtis()\n",
    "# criterion_ce  = BCELoss()\n",
    "criterion_ce  = CrossEntropyLoss()\n",
    "\n",
    "\n",
    "def criterion(preds, masks):\n",
    "    c_dice = criterion_dice(preds, masks)\n",
    "    c_ce = criterion_ce(preds, masks)\n",
    "    return 0.5*c_dice + 0.5*c_ce\n",
    "\n",
    "tr_prms = config['training']\n",
    "optimizer = globals()[tr_prms['optimizer']['name']](model.parameters(), **tr_prms['optimizer']['params'])\n",
    "scheduler = torch.optim.lr_scheduler.ReduceLROnPlateau(optimizer, 'min', **tr_prms['scheduler'])"
   ]
  },
  {
   "cell_type": "markdown",
   "id": "4b7ab777",
   "metadata": {},
   "source": [
    "## Start traning"
   ]
  },
  {
   "cell_type": "code",
   "execution_count": 17,
   "id": "nutritional-diagram",
   "metadata": {},
   "outputs": [
    {
     "name": "stderr",
     "output_type": "stream",
     "text": [
      "Training) ep:000, batch:0083 -> curr_mean-loss:0.03351, mean_batch-loss:0.08209: : 83it [00:03, 25.36it/s]\n",
      "Training) ep:001, batch:0083 -> curr_mean-loss:0.01592, mean_batch-loss:0.05515: : 83it [00:03, 25.50it/s]\n",
      "Training) ep:002, batch:0083 -> curr_mean-loss:0.01003, mean_batch-loss:0.02942: : 83it [00:03, 26.06it/s]\n",
      "Training) ep:003, batch:0083 -> curr_mean-loss:0.00824, mean_batch-loss:0.02980: : 83it [00:03, 25.71it/s]\n",
      "Training) ep:004, batch:0083 -> curr_mean-loss:0.00765, mean_batch-loss:0.02937: : 83it [00:03, 25.67it/s]\n"
     ]
    }
   ],
   "source": [
    "best_model, model, res = train(\n",
    "    model, \n",
    "    device, \n",
    "    tr_dataloader,\n",
    "    vl_dataloader,\n",
    "    config,\n",
    "    \n",
    "    criterion,\n",
    "    optimizer,\n",
    "    scheduler,\n",
    "\n",
    "    save_dir = config['model']['save_dir'],\n",
    "    save_file_id = None,\n",
    ")"
   ]
  },
  {
   "cell_type": "code",
   "execution_count": 18,
   "id": "dried-ordering",
   "metadata": {},
   "outputs": [
    {
     "name": "stderr",
     "output_type": "stream",
     "text": [
      "100%|██████████| 50/50 [00:01<00:00, 38.93it/s]\n"
     ]
    },
    {
     "data": {
      "text/plain": [
       "{'test_metrics/F1Score': tensor(0.5138, device='cuda:0'),\n",
       " 'test_metrics/Accuracy': tensor(0.9636, device='cuda:0'),\n",
       " 'test_metrics/Dice': tensor(0.5138, device='cuda:0'),\n",
       " 'test_metrics/Precision': tensor(0.7902, device='cuda:0'),\n",
       " 'test_metrics/Specificity': tensor(0.9946, device='cuda:0'),\n",
       " 'test_metrics/Recall': tensor(0.3807, device='cuda:0'),\n",
       " 'test_metrics/JaccardIndex': tensor(0.6543, device='cuda:0')}"
      ]
     },
     "execution_count": 18,
     "metadata": {},
     "output_type": "execute_result"
    }
   ],
   "source": [
    "te_metrics = test(best_model, te_dataloader)\n",
    "te_metrics.compute()"
   ]
  },
  {
   "cell_type": "code",
   "execution_count": null,
   "id": "related-player",
   "metadata": {},
   "outputs": [],
   "source": [
    "f\"{config['model']['save_dir']}\""
   ]
  },
  {
   "cell_type": "markdown",
   "id": "third-stopping",
   "metadata": {},
   "source": [
    "# Test the best inferred model\n",
    "----"
   ]
  },
  {
   "cell_type": "markdown",
   "id": "seventh-penetration",
   "metadata": {},
   "source": [
    "## Load the best model"
   ]
  },
  {
   "cell_type": "code",
   "execution_count": null,
   "id": "alert-prospect",
   "metadata": {},
   "outputs": [],
   "source": [
    "from models.unet import UNet as Net\n",
    "\n",
    "best_model = Net(**config['model']['params'])\n",
    "torch.cuda.empty_cache()\n",
    "best_model = best_model.to(device)\n",
    "\n",
    "fn = \"best_model_state_dict.pt\"\n",
    "os.makedirs(config['model']['save_dir'], exist_ok=True)\n",
    "model_path = f\"{config['model']['save_dir']}/{fn}\"\n",
    "\n",
    "best_model.load_state_dict(torch.load(model_path))\n",
    "print(\"Loaded best model weights...\")"
   ]
  },
  {
   "cell_type": "markdown",
   "id": "awful-mixture",
   "metadata": {},
   "source": [
    "## Evaluation"
   ]
  },
  {
   "cell_type": "code",
   "execution_count": null,
   "id": "literary-sterling",
   "metadata": {},
   "outputs": [],
   "source": [
    "te_metrics = test(best_model, te_dataloader)\n",
    "te_metrics.compute()"
   ]
  },
  {
   "cell_type": "markdown",
   "id": "stable-disaster",
   "metadata": {},
   "source": [
    "## Plot graphs"
   ]
  },
  {
   "cell_type": "code",
   "execution_count": null,
   "id": "breeding-investment",
   "metadata": {},
   "outputs": [],
   "source": [
    "result_file_path = f\"{config['model']['save_dir']}/result.json\"\n",
    "with open(result_file_path, 'r') as f:\n",
    "    results = json.loads(''.join(f.readlines()))\n",
    "epochs_info = results['epochs_info']\n",
    "\n",
    "tr_losses = [d['tr_loss'] for d in epochs_info]\n",
    "vl_losses = [d['vl_loss'] for d in epochs_info]\n",
    "tr_dice = [d['tr_metrics']['train_metrics/Dice'] for d in epochs_info]\n",
    "vl_dice = [d['vl_metrics']['valid_metrics/Dice'] for d in epochs_info]\n",
    "tr_js = [d['tr_metrics']['train_metrics/JaccardIndex'] for d in epochs_info]\n",
    "vl_js = [d['vl_metrics']['valid_metrics/JaccardIndex'] for d in epochs_info]\n",
    "tr_acc = [d['tr_metrics']['train_metrics/Accuracy'] for d in epochs_info]\n",
    "vl_acc = [d['vl_metrics']['valid_metrics/Accuracy'] for d in epochs_info]\n",
    "\n",
    "\n",
    "_, axs = plt.subplots(1, 4, figsize=[16,3])\n",
    "\n",
    "axs[0].set_title(\"Loss\")\n",
    "axs[0].plot(tr_losses, 'r-', label=\"train loss\")\n",
    "axs[0].plot(vl_losses, 'b-', label=\"validatiton loss\")\n",
    "axs[0].legend()\n",
    "\n",
    "axs[1].set_title(\"Dice score\")\n",
    "axs[1].plot(tr_dice, 'r-', label=\"train dice\")\n",
    "axs[1].plot(vl_dice, 'b-', label=\"validation dice\")\n",
    "axs[1].legend()\n",
    "\n",
    "axs[2].set_title(\"Jaccard Similarity\")\n",
    "axs[2].plot(tr_js, 'r-', label=\"train JaccardIndex\")\n",
    "axs[2].plot(vl_js, 'b-', label=\"validatiton JaccardIndex\")\n",
    "axs[2].legend()\n",
    "\n",
    "axs[3].set_title(\"Accuracy\")\n",
    "axs[3].plot(tr_acc, 'r-', label=\"train Accuracy\")\n",
    "axs[3].plot(vl_acc, 'b-', label=\"validation Accuracy\")\n",
    "axs[3].legend()\n",
    "\n",
    "plt.show()"
   ]
  },
  {
   "cell_type": "code",
   "execution_count": null,
   "id": "reduced-payday",
   "metadata": {},
   "outputs": [],
   "source": [
    "epochs_info"
   ]
  },
  {
   "cell_type": "markdown",
   "id": "spanish-leone",
   "metadata": {},
   "source": [
    "## Save images"
   ]
  },
  {
   "cell_type": "code",
   "execution_count": null,
   "id": "parliamentary-holocaust",
   "metadata": {},
   "outputs": [],
   "source": [
    "from PIL import Image\n",
    "\n",
    "\n",
    "save_imgs_dir = f\"{config['model']['save_dir']}/visualized\"\n",
    "\n",
    "if not os.path.isdir(save_imgs_dir):\n",
    "    os.mkdir(save_imgs_dir)\n",
    "\n",
    "with torch.no_grad():\n",
    "    for batch in tqdm(te_dataloader):\n",
    "        imgs = batch['image']\n",
    "        msks = batch['mask']\n",
    "        ids = batch['id']\n",
    "        \n",
    "        preds = best_model(imgs.to(device))\n",
    "        \n",
    "        txm = imgs.cpu().numpy()\n",
    "        tbm = torch.argmax(msks, 1).cpu().numpy()\n",
    "        tpm = torch.argmax(preds, 1).cpu().numpy()\n",
    "        tid = ids.cpu().numpy()\n",
    "        \n",
    "        for idx in range(len(tbm)):\n",
    "            img = np.moveaxis(txm[idx, :3], 0, -1)*255.\n",
    "            nuc = np.uint8(txm[idx, -1]*255.)\n",
    "            gt = np.uint8(tbm[idx]*255.)\n",
    "            gt_3ch = np.stack([gt-nuc, nuc*0, nuc], -1)\n",
    "            pred = np.where(tpm[idx]>0.5, 255, 0)\n",
    "            pred_3ch = np.stack([pred-nuc, nuc*0, nuc], -1)\n",
    "            \n",
    "            img = np.ascontiguousarray(img, dtype=np.uint8)\n",
    "            gt_3ch = np.ascontiguousarray(gt_3ch, dtype=np.uint8)\n",
    "            pred_3ch = np.ascontiguousarray(pred_3ch, dtype=np.uint8)\n",
    "            \n",
    "            fid = tid[idx]\n",
    "            Image.fromarray(img).save(f\"{save_imgs_dir}/{fid}_img.png\")\n",
    "            Image.fromarray(gt_3ch).save(f\"{save_imgs_dir}/{fid}_gt.png\")\n",
    "            Image.fromarray(pred_3ch).save(f\"{save_imgs_dir}/{fid}_pred.png\")\n"
   ]
  },
  {
   "cell_type": "code",
   "execution_count": null,
   "id": "micro-district",
   "metadata": {},
   "outputs": [],
   "source": [
    "f\"{config['model']['save_dir']}/visualized\""
   ]
  }
 ],
 "metadata": {
  "kernelspec": {
   "display_name": "Python 3 (ipykernel)",
   "language": "python",
   "name": "python3"
  },
  "language_info": {
   "codemirror_mode": {
    "name": "ipython",
    "version": 3
   },
   "file_extension": ".py",
   "mimetype": "text/x-python",
   "name": "python",
   "nbconvert_exporter": "python",
   "pygments_lexer": "ipython3",
   "version": "3.8.13"
  }
 },
 "nbformat": 4,
 "nbformat_minor": 5
}
